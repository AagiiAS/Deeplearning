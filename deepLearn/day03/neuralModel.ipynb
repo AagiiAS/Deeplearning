{
 "cells": [
  {
   "cell_type": "code",
   "execution_count": 1,
   "id": "initial_id",
   "metadata": {
    "collapsed": true,
    "ExecuteTime": {
     "end_time": "2024-08-29T03:34:03.921931Z",
     "start_time": "2024-08-29T03:34:03.512330Z"
    }
   },
   "outputs": [
    {
     "name": "stdout",
     "output_type": "stream",
     "text": [
      "tensor([[-0.2991,  0.1329]], grad_fn=<AddmmBackward0>)\n"
     ]
    }
   ],
   "source": [
    "import torch\n",
    "import torch.nn as nn\n",
    "\n",
    "class DemoModel(nn.Module):\n",
    "    def __init__(self):\n",
    "        super(DemoModel, self).__init__()\n",
    "        self.layer1 = nn.Linear(10, 5)  # Example layer\n",
    "        self.layer2 = nn.Linear(5, 2)   # Example layer\n",
    "\n",
    "    def forward(self, x):\n",
    "        x_layer1 = self.layer1(x)\n",
    "        x_layer2 = self.layer2(x_layer1)\n",
    "        return x_layer2\n",
    "\n",
    "# Create an instance of the model\n",
    "demo_model = DemoModel()\n",
    "\n",
    "# Create a sample input tensor\n",
    "x = torch.randn(1, 10)  # Example input with batch size 1 and 10 features\n",
    "\n",
    "# Pass the input through the model\n",
    "out = demo_model(x)\n",
    "\n",
    "print(out)\n"
   ]
  },
  {
   "cell_type": "code",
   "execution_count": null,
   "outputs": [],
   "source": [],
   "metadata": {
    "collapsed": false
   },
   "id": "4d0d84418f333195"
  }
 ],
 "metadata": {
  "kernelspec": {
   "display_name": "Python 3",
   "language": "python",
   "name": "python3"
  },
  "language_info": {
   "codemirror_mode": {
    "name": "ipython",
    "version": 2
   },
   "file_extension": ".py",
   "mimetype": "text/x-python",
   "name": "python",
   "nbconvert_exporter": "python",
   "pygments_lexer": "ipython2",
   "version": "2.7.6"
  }
 },
 "nbformat": 4,
 "nbformat_minor": 5
}
