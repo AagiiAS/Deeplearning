{
 "cells": [
  {
   "cell_type": "code",
   "execution_count": 1,
   "id": "initial_id",
   "metadata": {
    "collapsed": true,
    "ExecuteTime": {
     "end_time": "2024-08-29T08:10:11.727074Z",
     "start_time": "2024-08-29T08:10:11.322227Z"
    }
   },
   "outputs": [],
   "source": [
    "import torch \n",
    "import torch.nn as nn "
   ]
  },
  {
   "cell_type": "code",
   "execution_count": 2,
   "outputs": [
    {
     "name": "stdout",
     "output_type": "stream",
     "text": [
      "loss 1.9560115337371826\n"
     ]
    }
   ],
   "source": [
    "y_true = torch.tensor([0,1,0,1], dtype=torch.float32)\n",
    "\n",
    "y_predict = torch.tensor([0.9,0.1, 0.8,0.2], dtype=torch.float32)\n",
    "\n",
    "loss = nn.BCELoss()\n",
    "print(f'loss {loss(y_predict, y_true)}')"
   ],
   "metadata": {
    "collapsed": false,
    "ExecuteTime": {
     "end_time": "2024-08-29T08:11:39.139695Z",
     "start_time": "2024-08-29T08:11:39.126830Z"
    }
   },
   "id": "50de4804d81780c4"
  },
  {
   "cell_type": "code",
   "execution_count": 3,
   "outputs": [
    {
     "name": "stdout",
     "output_type": "stream",
     "text": [
      "loss:  0.6872687\n"
     ]
    }
   ],
   "source": [
    "y_true = torch.tensor([0,1,0], dtype=torch.float32)\n",
    "\n",
    "y_predict = torch.tensor([0.69, 0.54, 0.24], requires_grad=True)\n",
    "\n",
    "cri = nn.BCELoss()\n",
    "#detach = new tensor that is identical to the original , but does not require gradients\n",
    "my_loss = cri(y_predict, y_true).detach().numpy()\n",
    "print('loss: ', my_loss)"
   ],
   "metadata": {
    "collapsed": false,
    "ExecuteTime": {
     "end_time": "2024-08-29T08:14:49.684977Z",
     "start_time": "2024-08-29T08:14:49.677152Z"
    }
   },
   "id": "632276c23cc8b10d"
  },
  {
   "cell_type": "code",
   "execution_count": 6,
   "outputs": [
    {
     "name": "stdout",
     "output_type": "stream",
     "text": [
      "loss_L1: 2.0\n"
     ]
    }
   ],
   "source": [
    "y_true = torch.tensor([2.0, 3.0, 1.0], dtype=torch.float32)\n",
    "y_predict = torch.tensor([1.0, 5.0, 4.0], dtype=torch.float32)\n",
    "\n",
    "loss = nn.L1Loss()\n",
    "print(f'loss_L1: {loss(y_predict, y_true)}')"
   ],
   "metadata": {
    "collapsed": false,
    "ExecuteTime": {
     "end_time": "2024-08-29T09:00:06.435672Z",
     "start_time": "2024-08-29T09:00:06.427152Z"
    }
   },
   "id": "c1856604c01b13e2"
  },
  {
   "cell_type": "code",
   "execution_count": 7,
   "outputs": [
    {
     "name": "stdout",
     "output_type": "stream",
     "text": [
      "loss_MSELoss: 4.666666507720947\n"
     ]
    }
   ],
   "source": [
    "y_true = torch.tensor([2.0, 3.0, 1.0], dtype=torch.float32)\n",
    "y_predict = torch.tensor([1.0, 5.0, 4.0], dtype=torch.float32)\n",
    "\n",
    "loss = nn.MSELoss()\n",
    "print(f'loss_MSELoss: {loss(y_predict, y_true)}')"
   ],
   "metadata": {
    "collapsed": false,
    "ExecuteTime": {
     "end_time": "2024-08-29T09:00:43.985908Z",
     "start_time": "2024-08-29T09:00:43.977297Z"
    }
   },
   "id": "b364f74b91b39c5a"
  },
  {
   "cell_type": "code",
   "execution_count": 8,
   "outputs": [
    {
     "name": "stdout",
     "output_type": "stream",
     "text": [
      "loss_SmoothL1: 1.5\n"
     ]
    }
   ],
   "source": [
    "y_true = torch.tensor([2.0, 3.0, 1.0], dtype=torch.float32)\n",
    "y_predict = torch.tensor([1.0, 5.0, 4.0], dtype=torch.float32)\n",
    "\n",
    "loss = nn.SmoothL1Loss()\n",
    "print(f'loss_SmoothL1: {loss(y_predict, y_true)}')"
   ],
   "metadata": {
    "collapsed": false,
    "ExecuteTime": {
     "end_time": "2024-08-29T09:01:10.472970Z",
     "start_time": "2024-08-29T09:01:10.464729Z"
    }
   },
   "id": "5de8a5e90a05ea1c"
  }
 ],
 "metadata": {
  "kernelspec": {
   "display_name": "Python 3",
   "language": "python",
   "name": "python3"
  },
  "language_info": {
   "codemirror_mode": {
    "name": "ipython",
    "version": 2
   },
   "file_extension": ".py",
   "mimetype": "text/x-python",
   "name": "python",
   "nbconvert_exporter": "python",
   "pygments_lexer": "ipython2",
   "version": "2.7.6"
  }
 },
 "nbformat": 4,
 "nbformat_minor": 5
}
