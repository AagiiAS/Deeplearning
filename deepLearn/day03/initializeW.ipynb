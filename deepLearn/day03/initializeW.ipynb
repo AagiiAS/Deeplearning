{
 "cells": [
  {
   "cell_type": "code",
   "execution_count": 1,
   "id": "initial_id",
   "metadata": {
    "collapsed": true,
    "ExecuteTime": {
     "end_time": "2024-08-29T02:17:02.806501Z",
     "start_time": "2024-08-29T02:17:01.240878Z"
    }
   },
   "outputs": [],
   "source": [
    "import torch\n",
    "import torch.nn as nn "
   ]
  },
  {
   "cell_type": "code",
   "execution_count": 4,
   "outputs": [
    {
     "name": "stdout",
     "output_type": "stream",
     "text": [
      "linear_weight: tensor([[ 0.0833,  0.4906, -0.2663],\n",
      "        [ 0.3262, -0.2634, -0.0425]])\n",
      "linear_bias: tensor([0.3085, 0.0028])\n"
     ]
    }
   ],
   "source": [
    "# torch.random.manual_seed(11)\n",
    "\n",
    "linear = nn.Linear(in_features=3, out_features=2)\n",
    "print(f'linear_weight: {linear.weight.data}')\n",
    "print(f'linear_bias: {linear.bias.data}')"
   ],
   "metadata": {
    "collapsed": false,
    "ExecuteTime": {
     "end_time": "2024-08-29T02:20:05.713847Z",
     "start_time": "2024-08-29T02:20:05.705457Z"
    }
   },
   "id": "13b62d73caee3521"
  },
  {
   "cell_type": "code",
   "execution_count": 8,
   "outputs": [
    {
     "name": "stderr",
     "output_type": "stream",
     "text": [
      "/var/folders/s3/hxlfly855_9782073gc2mj2w0000gn/T/ipykernel_2097/615741997.py:3: UserWarning: nn.init.constant is now deprecated in favor of nn.init.constant_.\n",
      "  nn.init.constant(linear.weight,100)\n",
      "/var/folders/s3/hxlfly855_9782073gc2mj2w0000gn/T/ipykernel_2097/615741997.py:4: UserWarning: nn.init.normal is now deprecated in favor of nn.init.normal_.\n",
      "  nn.init.normal(linear.weight, mean=0, std=1)\n"
     ]
    },
    {
     "data": {
      "text/plain": "Parameter containing:\ntensor([[-1.0028, -1.0008, -0.3080],\n        [-0.4922,  0.8023,  0.1384]], requires_grad=True)"
     },
     "execution_count": 8,
     "metadata": {},
     "output_type": "execute_result"
    }
   ],
   "source": [
    "nn.init.zeros_(linear.weight)\n",
    "nn.init.ones_(linear.weight)\n",
    "\n",
    "\n"
   ],
   "metadata": {
    "collapsed": false,
    "ExecuteTime": {
     "end_time": "2024-08-29T02:28:39.194219Z",
     "start_time": "2024-08-29T02:28:39.181321Z"
    }
   },
   "id": "8e7692b413c90663"
  },
  {
   "cell_type": "code",
   "execution_count": null,
   "outputs": [],
   "source": [
    "nn.init.constant(linear.weight,100)\n"
   ],
   "metadata": {
    "collapsed": false
   },
   "id": "fca015dc33396c62"
  },
  {
   "cell_type": "code",
   "execution_count": null,
   "outputs": [],
   "source": [
    "nn.init.normal(linear.weight, mean=0, std=1)"
   ],
   "metadata": {
    "collapsed": false
   },
   "id": "b5a155ee5e40213f"
  },
  {
   "cell_type": "code",
   "execution_count": 7,
   "outputs": [
    {
     "name": "stderr",
     "output_type": "stream",
     "text": [
      "/var/folders/s3/hxlfly855_9782073gc2mj2w0000gn/T/ipykernel_2097/1942631128.py:1: UserWarning: nn.init.uniform is now deprecated in favor of nn.init.uniform_.\n",
      "  nn.init.uniform(linear.weight)\n"
     ]
    },
    {
     "data": {
      "text/plain": "Parameter containing:\ntensor([[0.4578, 0.3566, 0.4831],\n        [0.6752, 0.2525, 0.5272]], requires_grad=True)"
     },
     "execution_count": 7,
     "metadata": {},
     "output_type": "execute_result"
    }
   ],
   "source": [
    "nn.init.uniform(linear.weight)"
   ],
   "metadata": {
    "collapsed": false,
    "ExecuteTime": {
     "end_time": "2024-08-29T02:28:29.705958Z",
     "start_time": "2024-08-29T02:28:29.697371Z"
    }
   },
   "id": "3773bdb5e67e9196"
  },
  {
   "cell_type": "code",
   "execution_count": 9,
   "outputs": [
    {
     "name": "stderr",
     "output_type": "stream",
     "text": [
      "/var/folders/s3/hxlfly855_9782073gc2mj2w0000gn/T/ipykernel_2097/3101024978.py:1: UserWarning: nn.init.kaiming_normal is now deprecated in favor of nn.init.kaiming_normal_.\n",
      "  nn.init.kaiming_normal(linear.weight)\n"
     ]
    },
    {
     "data": {
      "text/plain": "Parameter containing:\ntensor([[ 0.0941, -1.2759, -0.3239],\n        [ 0.5501,  0.6989,  0.5106]], requires_grad=True)"
     },
     "execution_count": 9,
     "metadata": {},
     "output_type": "execute_result"
    }
   ],
   "source": [
    "#unchanged original tensor without _\n",
    "# initial weights in such a way that variance of the activations is preserved as the data passes through the layers of the network \n",
    "# avoid both vanishing and exploding gradients \n",
    "# fan_in = forward pass\n",
    "#fan_out = backward pass\n",
    "#stddev = sqrt(2 / fan_in)\n",
    "# best for ReLU\n",
    "nn.init.kaiming_normal(linear.weight)"
   ],
   "metadata": {
    "collapsed": false,
    "ExecuteTime": {
     "end_time": "2024-08-29T02:29:34.555345Z",
     "start_time": "2024-08-29T02:29:34.542528Z"
    }
   },
   "id": "4969ce1d76d9bc34"
  },
  {
   "cell_type": "code",
   "execution_count": 10,
   "outputs": [
    {
     "data": {
      "text/plain": "Parameter containing:\ntensor([[-0.4480, -0.7805,  1.2044],\n        [ 1.3350,  0.7301, -0.1207]], requires_grad=True)"
     },
     "execution_count": 10,
     "metadata": {},
     "output_type": "execute_result"
    }
   ],
   "source": [
    "nn.init.kaiming_uniform_(linear.weight)"
   ],
   "metadata": {
    "collapsed": false,
    "ExecuteTime": {
     "end_time": "2024-08-29T02:30:02.633985Z",
     "start_time": "2024-08-29T02:30:02.616049Z"
    }
   },
   "id": "f2bea59a68758590"
  },
  {
   "cell_type": "code",
   "execution_count": 11,
   "outputs": [
    {
     "data": {
      "text/plain": "Parameter containing:\ntensor([[ 0.4353,  0.5509,  0.3423],\n        [ 0.3515, -0.2069,  0.8365]], requires_grad=True)"
     },
     "execution_count": 11,
     "metadata": {},
     "output_type": "execute_result"
    }
   ],
   "source": [
    "#aims to set the initial weights in such a way that the variance of the activations is preserved as the data passes through the layers of the network\n",
    "# stddev = sqrt(2 / (fan_in + fan_out))\n",
    "# sigmoid and tanh \n",
    "nn.init.xavier_normal_(linear.weight)"
   ],
   "metadata": {
    "collapsed": false,
    "ExecuteTime": {
     "end_time": "2024-08-29T02:30:20.431322Z",
     "start_time": "2024-08-29T02:30:20.413511Z"
    }
   },
   "id": "cdc2f4bbcda397aa"
  },
  {
   "cell_type": "markdown",
   "source": [],
   "metadata": {
    "collapsed": false
   },
   "id": "de1ffb345167c68b"
  },
  {
   "cell_type": "code",
   "execution_count": 12,
   "outputs": [
    {
     "data": {
      "text/plain": "Parameter containing:\ntensor([[ 0.4397,  1.0389,  0.0872],\n        [-0.1317, -0.6195, -0.2439]], requires_grad=True)"
     },
     "execution_count": 12,
     "metadata": {},
     "output_type": "execute_result"
    }
   ],
   "source": [
    "nn.init.xavier_uniform_(linear.weight)"
   ],
   "metadata": {
    "collapsed": false,
    "ExecuteTime": {
     "end_time": "2024-08-29T02:30:37.849586Z",
     "start_time": "2024-08-29T02:30:37.837535Z"
    }
   },
   "id": "345378b683d15b13"
  },
  {
   "cell_type": "code",
   "execution_count": null,
   "outputs": [],
   "source": [],
   "metadata": {
    "collapsed": false
   },
   "id": "e63b602a8235266b"
  }
 ],
 "metadata": {
  "kernelspec": {
   "display_name": "Python 3",
   "language": "python",
   "name": "python3"
  },
  "language_info": {
   "codemirror_mode": {
    "name": "ipython",
    "version": 2
   },
   "file_extension": ".py",
   "mimetype": "text/x-python",
   "name": "python",
   "nbconvert_exporter": "python",
   "pygments_lexer": "ipython2",
   "version": "2.7.6"
  }
 },
 "nbformat": 4,
 "nbformat_minor": 5
}
