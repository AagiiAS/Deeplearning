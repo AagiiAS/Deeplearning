{
 "cells": [
  {
   "cell_type": "code",
   "execution_count": 1,
   "id": "initial_id",
   "metadata": {
    "collapsed": true,
    "ExecuteTime": {
     "end_time": "2024-08-26T07:13:38.688386Z",
     "start_time": "2024-08-26T07:13:36.852431Z"
    }
   },
   "outputs": [],
   "source": [
    "import numpy as np\n",
    "import torch"
   ]
  },
  {
   "cell_type": "code",
   "execution_count": 4,
   "outputs": [
    {
     "name": "stdout",
     "output_type": "stream",
     "text": [
      "tensor(100)\n",
      "tensor([10.5000,  2.3000])\n",
      "-----------------------\n",
      "[ 0.00542678 -1.00815742 -1.57359421  2.75372367 -1.29467986  0.84396137\n",
      "  1.4915734   2.47896946  0.0330479  -0.76182945]\n",
      "-----------------------\n",
      "tensor([ 0.0054, -1.0082, -1.5736,  2.7537, -1.2947,  0.8440,  1.4916,  2.4790,\n",
      "         0.0330, -0.7618])\n",
      "-----------------------\n",
      "tensor([[0., 0., 0.],\n",
      "        [0., 0., 0.]])\n"
     ]
    }
   ],
   "source": [
    "#将数据创建为张量\n",
    "print(torch.tensor(100))\n",
    "print(torch.tensor([10.5, 2.3]))\n",
    "print('-' *23)\n",
    "data = np.random.randn(10)\n",
    "print(data)\n",
    "print('-' *23)\n",
    "print(torch.tensor(data))\n",
    "print('-' *23)\n",
    "#指定形状或指定数据创建张量\n",
    "print(torch.Tensor(2, 3))"
   ],
   "metadata": {
    "collapsed": false,
    "ExecuteTime": {
     "end_time": "2024-08-26T03:01:24.238408Z",
     "start_time": "2024-08-26T03:01:24.228022Z"
    }
   },
   "id": "1e4deedcca2bbcbe"
  },
  {
   "cell_type": "code",
   "execution_count": 5,
   "outputs": [
    {
     "name": "stdout",
     "output_type": "stream",
     "text": [
      "tensor([10,  2], dtype=torch.int32)\n"
     ]
    },
    {
     "name": "stderr",
     "output_type": "stream",
     "text": [
      "/var/folders/s3/hxlfly855_9782073gc2mj2w0000gn/T/ipykernel_2291/48161279.py:1: DeprecationWarning: an integer is required (got type float).  Implicit conversion to integers using __int__ is deprecated, and may be removed in a future version of Python.\n",
      "  print(torch.IntTensor([10.5,2.3]))\n"
     ]
    }
   ],
   "source": [
    "#指定元素类型\n",
    "print(torch.IntTensor([10.5,2.3]))"
   ],
   "metadata": {
    "collapsed": false,
    "ExecuteTime": {
     "end_time": "2024-08-26T03:02:16.161819Z",
     "start_time": "2024-08-26T03:02:16.149217Z"
    }
   },
   "id": "178efab57be24459"
  },
  {
   "cell_type": "code",
   "execution_count": 6,
   "outputs": [
    {
     "name": "stdout",
     "output_type": "stream",
     "text": [
      "tensor([100.])\n"
     ]
    }
   ],
   "source": [
    "print(torch.FloatTensor([100]))"
   ],
   "metadata": {
    "collapsed": false,
    "ExecuteTime": {
     "end_time": "2024-08-26T03:04:52.302924Z",
     "start_time": "2024-08-26T03:04:52.296324Z"
    }
   },
   "id": "932ec26e72ab484c"
  },
  {
   "cell_type": "markdown",
   "source": [
    "#### 1.2 线性张量和随机张量"
   ],
   "metadata": {
    "collapsed": false
   },
   "id": "51189ff3e3606003"
  },
  {
   "cell_type": "code",
   "execution_count": 11,
   "outputs": [
    {
     "name": "stdout",
     "output_type": "stream",
     "text": [
      "tensor([0, 1, 2, 3, 4, 5, 6, 7, 8, 9])\n"
     ]
    }
   ],
   "source": [
    "# 在指定区间按照步长生成元素 【start, end, steps]\n",
    "print(torch.arange(0,10,1)) #包左不包右"
   ],
   "metadata": {
    "collapsed": false,
    "ExecuteTime": {
     "end_time": "2024-08-26T03:09:48.728209Z",
     "start_time": "2024-08-26T03:09:48.718572Z"
    }
   },
   "id": "cd9609bd685c70a8"
  },
  {
   "cell_type": "code",
   "execution_count": 20,
   "outputs": [
    {
     "name": "stdout",
     "output_type": "stream",
     "text": [
      "tensor([ 0.0000,  2.5000,  5.0000,  7.5000, 10.0000])\n"
     ]
    }
   ],
   "source": [
    "#在指定区间按照匀速个数生成 【start, end, steps]\n",
    "print(torch.linspace(0, 10, 5))"
   ],
   "metadata": {
    "collapsed": false,
    "ExecuteTime": {
     "end_time": "2024-08-26T03:14:49.238710Z",
     "start_time": "2024-08-26T03:14:49.230638Z"
    }
   },
   "id": "2909d6fb59aa814f"
  },
  {
   "cell_type": "code",
   "execution_count": 13,
   "outputs": [
    {
     "name": "stdout",
     "output_type": "stream",
     "text": [
      "tensor([[ 0.5027,  0.9655,  1.8579],\n",
      "        [ 1.1472, -0.2108, -0.5966]])\n"
     ]
    }
   ],
   "source": [
    "#创建随机张量\n",
    "print(torch.randn(2, 3))    #2行3列"
   ],
   "metadata": {
    "collapsed": false,
    "ExecuteTime": {
     "end_time": "2024-08-26T03:11:22.541531Z",
     "start_time": "2024-08-26T03:11:22.533044Z"
    }
   },
   "id": "a974ac812a6f31a7"
  },
  {
   "cell_type": "code",
   "execution_count": 51,
   "outputs": [
    {
     "name": "stdout",
     "output_type": "stream",
     "text": [
      "200\n"
     ]
    }
   ],
   "source": [
    "#查看随机数种子\n",
    "print(torch.random.initial_seed())\n",
    "# r\"\"\"Returns the initial seed for generating random numbers as a python long"
   ],
   "metadata": {
    "collapsed": false,
    "ExecuteTime": {
     "end_time": "2024-08-26T04:18:10.646217Z",
     "start_time": "2024-08-26T04:18:10.642044Z"
    }
   },
   "id": "1c5993a6a79b1016"
  },
  {
   "cell_type": "markdown",
   "source": [],
   "metadata": {
    "collapsed": false
   },
   "id": "867b5f675a5ec737"
  },
  {
   "cell_type": "code",
   "execution_count": 50,
   "outputs": [
    {
     "name": "stdout",
     "output_type": "stream",
     "text": [
      "tensor([[ 0.0144, -2.6373, -0.4331],\n",
      "        [ 0.4472,  1.9159, -0.4903]])\n",
      "随机树种子：200\n"
     ]
    }
   ],
   "source": [
    "#随机树种子设置\n",
    "torch.random.manual_seed(200)\n",
    "#Sets the seed for generating random numbers. Returns a   `torch.Generator` object.\n",
    "\n",
    "data = torch.randn(2,3)\n",
    "print(data)\n",
    "print(f'随机树种子：{torch.random.initial_seed()}')"
   ],
   "metadata": {
    "collapsed": false,
    "ExecuteTime": {
     "end_time": "2024-08-26T04:18:06.948613Z",
     "start_time": "2024-08-26T04:18:06.939695Z"
    }
   },
   "id": "b084f03070998b33"
  },
  {
   "cell_type": "markdown",
   "source": [],
   "metadata": {
    "collapsed": false
   },
   "id": "f40950fa1c9227be"
  },
  {
   "cell_type": "markdown",
   "source": [
    "#### 1.3 指定值张量"
   ],
   "metadata": {
    "collapsed": false
   },
   "id": "a622a6b443165936"
  },
  {
   "cell_type": "code",
   "execution_count": 24,
   "outputs": [
    {
     "name": "stdout",
     "output_type": "stream",
     "text": [
      "tensor([[1., 1., 1., 1., 1.],\n",
      "        [1., 1., 1., 1., 1.],\n",
      "        [1., 1., 1., 1., 1.],\n",
      "        [1., 1., 1., 1., 1.]])\n",
      "tensor([[1., 1., 1.],\n",
      "        [1., 1., 1.]])\n"
     ]
    }
   ],
   "source": [
    "# 创建全1张量\n",
    "data = torch.randn(2,3)\n",
    "print(torch.ones(4, 5))\n",
    "print(torch.ones_like(data))"
   ],
   "metadata": {
    "collapsed": false,
    "ExecuteTime": {
     "end_time": "2024-08-26T03:20:11.140225Z",
     "start_time": "2024-08-26T03:20:11.134655Z"
    }
   },
   "id": "5cf0b5d0d58a72f2"
  },
  {
   "cell_type": "code",
   "execution_count": 28,
   "outputs": [
    {
     "name": "stdout",
     "output_type": "stream",
     "text": [
      "tensor([[0., 0., 0., 0.],\n",
      "        [0., 0., 0., 0.],\n",
      "        [0., 0., 0., 0.]])\n",
      "tensor([[0., 0., 0.],\n",
      "        [0., 0., 0.]])\n"
     ]
    }
   ],
   "source": [
    "#创建全0张量\n",
    "print(torch.zeros(3, 4))\n",
    "print(torch.zeros_like(data))"
   ],
   "metadata": {
    "collapsed": false,
    "ExecuteTime": {
     "end_time": "2024-08-26T03:21:04.965292Z",
     "start_time": "2024-08-26T03:21:04.959250Z"
    }
   },
   "id": "8de8189a50356810"
  },
  {
   "cell_type": "code",
   "execution_count": 29,
   "outputs": [
    {
     "data": {
      "text/plain": "tensor([[10, 10, 10],\n        [10, 10, 10]])"
     },
     "execution_count": 29,
     "metadata": {},
     "output_type": "execute_result"
    }
   ],
   "source": [
    "#创建全为指定值张量\n",
    "torch.full([2,3], 10)"
   ],
   "metadata": {
    "collapsed": false,
    "ExecuteTime": {
     "end_time": "2024-08-26T03:21:33.237267Z",
     "start_time": "2024-08-26T03:21:33.224663Z"
    }
   },
   "id": "e80fcb2f196a75d3"
  },
  {
   "cell_type": "markdown",
   "source": [
    "#### 1.4 张量的类型转换"
   ],
   "metadata": {
    "collapsed": false
   },
   "id": "6df8d099411728d1"
  },
  {
   "cell_type": "code",
   "execution_count": 32,
   "outputs": [
    {
     "name": "stdout",
     "output_type": "stream",
     "text": [
      "torch.float32\n"
     ]
    }
   ],
   "source": [
    "#查看类型\n",
    "data = torch.randn(2,3)\n",
    "print(data.dtype)       #torch.float32"
   ],
   "metadata": {
    "collapsed": false,
    "ExecuteTime": {
     "end_time": "2024-08-26T03:25:27.946699Z",
     "start_time": "2024-08-26T03:25:27.940345Z"
    }
   },
   "id": "f0620af900fccf16"
  },
  {
   "cell_type": "code",
   "execution_count": 33,
   "outputs": [
    {
     "name": "stdout",
     "output_type": "stream",
     "text": [
      "torch.int32\n"
     ]
    }
   ],
   "source": [
    "#将data元素类型转换为 float64 类型\n",
    "print(data.type(torch.IntTensor).dtype)\n"
   ],
   "metadata": {
    "collapsed": false,
    "ExecuteTime": {
     "end_time": "2024-08-26T03:25:30.019790Z",
     "start_time": "2024-08-26T03:25:30.016195Z"
    }
   },
   "id": "62d85c22faf9cf41"
  },
  {
   "cell_type": "markdown",
   "source": [
    "#### 1.5 类型转换"
   ],
   "metadata": {
    "collapsed": false
   },
   "id": "38e6b229eea41f66"
  },
  {
   "cell_type": "code",
   "execution_count": 3,
   "outputs": [
    {
     "name": "stdout",
     "output_type": "stream",
     "text": [
      "tensor([[8, 7, 1],\n",
      "        [4, 8, 9]])\n",
      "<class 'torch.Tensor'>\n"
     ]
    }
   ],
   "source": [
    "torch.random.manual_seed(2)\n",
    "data_tensor = torch.randint(0,10,[2,3])\n",
    "print(data_tensor)\n",
    "print(type(data_tensor))"
   ],
   "metadata": {
    "collapsed": false,
    "ExecuteTime": {
     "end_time": "2024-08-26T07:13:55.983650Z",
     "start_time": "2024-08-26T07:13:55.977522Z"
    }
   },
   "id": "5db7fb6db6a0ef3f"
  },
  {
   "cell_type": "code",
   "execution_count": 9,
   "outputs": [
    {
     "name": "stdout",
     "output_type": "stream",
     "text": [
      "[10 15 17]\n",
      "<class 'numpy.ndarray'>\n"
     ]
    }
   ],
   "source": [
    "# 使用tensor。numpy() 函数可以将张量转换为ndarray 数组， 但是共享内存\n",
    "data_numpy = data_tensor.numpy().copy()\n",
    "print(data_numpy)\n",
    "print(type(data_numpy))"
   ],
   "metadata": {
    "collapsed": false,
    "ExecuteTime": {
     "end_time": "2024-08-26T07:16:59.094554Z",
     "start_time": "2024-08-26T07:16:59.087065Z"
    }
   },
   "id": "547554af87aa9575"
  },
  {
   "cell_type": "markdown",
   "source": [
    "#### 1.5.1 numpy to tensor "
   ],
   "metadata": {
    "collapsed": false
   },
   "id": "fbbce35dabdf75a7"
  },
  {
   "cell_type": "code",
   "execution_count": 8,
   "outputs": [
    {
     "name": "stdout",
     "output_type": "stream",
     "text": [
      "[10 15 17]\n",
      "tensor([10, 15, 17])\n"
     ]
    }
   ],
   "source": [
    "# 使用from_numpy() 可以将ndarray 数组转换为Tensor， 不共享内存\n",
    "data_numpy = np.array([12,15,17])\n",
    "data_tensor = torch.from_numpy(data_numpy)\n",
    "data_tensor[0] = 10 \n",
    "print(data_numpy)\n",
    "print(data_tensor)"
   ],
   "metadata": {
    "collapsed": false,
    "ExecuteTime": {
     "end_time": "2024-08-26T07:15:13.795774Z",
     "start_time": "2024-08-26T07:15:13.791714Z"
    }
   },
   "id": "271f9e1ebe24f90"
  },
  {
   "cell_type": "markdown",
   "source": [
    "#### 1.7 标量"
   ],
   "metadata": {
    "collapsed": false
   },
   "id": "5744365b71c0c332"
  },
  {
   "cell_type": "code",
   "execution_count": 6,
   "outputs": [
    {
     "name": "stdout",
     "output_type": "stream",
     "text": [
      "tensor([30])\n",
      "30\n"
     ]
    }
   ],
   "source": [
    "#对于只有一个元素的张量， 使用item（）函数将该zhi\n",
    "data = torch.tensor([30,])\n",
    "print(data)\n",
    "print(data.item())"
   ],
   "metadata": {
    "collapsed": false,
    "ExecuteTime": {
     "end_time": "2024-08-26T07:14:15.145823Z",
     "start_time": "2024-08-26T07:14:15.142065Z"
    }
   },
   "id": "684526e3bb481d3a"
  },
  {
   "cell_type": "markdown",
   "source": [
    "#### 1.8 基本运算"
   ],
   "metadata": {
    "collapsed": false
   },
   "id": "5aa9d42944d9e5ad"
  },
  {
   "cell_type": "code",
   "execution_count": 24,
   "outputs": [
    {
     "name": "stdout",
     "output_type": "stream",
     "text": [
      "tensor([[120, 150, 100],\n",
      "        [110, 100, 110]])\n"
     ]
    }
   ],
   "source": [
    "torch.random.manual_seed(2)\n",
    "ata = torch.randint(0,10,[2,3])\n",
    "print(data)"
   ],
   "metadata": {
    "collapsed": false,
    "ExecuteTime": {
     "end_time": "2024-08-26T07:25:49.649494Z",
     "start_time": "2024-08-26T07:25:49.642690Z"
    }
   },
   "id": "7b5b62b7d681a2c2"
  },
  {
   "cell_type": "code",
   "execution_count": 26,
   "outputs": [
    {
     "name": "stdout",
     "output_type": "stream",
     "text": [
      "tensor([[140, 170, 120],\n",
      "        [130, 120, 130]])\n",
      "tensor([[130, 160, 110],\n",
      "        [120, 110, 120]])\n"
     ]
    }
   ],
   "source": [
    "print(data.add(10)) #愿数组没变\n",
    "# print(data.add_(10)) #_ 愿数组变了\n",
    "print(data)"
   ],
   "metadata": {
    "collapsed": false,
    "ExecuteTime": {
     "end_time": "2024-08-26T07:25:58.392278Z",
     "start_time": "2024-08-26T07:25:58.377461Z"
    }
   },
   "id": "53d3d45f6fb2b5e0"
  },
  {
   "cell_type": "code",
   "execution_count": 27,
   "outputs": [
    {
     "name": "stdout",
     "output_type": "stream",
     "text": [
      "tensor([[120, 150, 100],\n",
      "        [110, 100, 110]])\n",
      "tensor([[130, 160, 110],\n",
      "        [120, 110, 120]])\n"
     ]
    }
   ],
   "source": [
    "print(data.sub(10))\n",
    "# print(data.sub_(10))\n",
    "print(data)"
   ],
   "metadata": {
    "collapsed": false,
    "ExecuteTime": {
     "end_time": "2024-08-26T07:26:01.660268Z",
     "start_time": "2024-08-26T07:26:01.653719Z"
    }
   },
   "id": "74cb6727429b0555"
  },
  {
   "cell_type": "code",
   "execution_count": 28,
   "outputs": [
    {
     "name": "stdout",
     "output_type": "stream",
     "text": [
      "tensor([[1300, 1600, 1100],\n",
      "        [1200, 1100, 1200]])\n",
      "tensor([[130, 160, 110],\n",
      "        [120, 110, 120]])\n"
     ]
    }
   ],
   "source": [
    "print(data.mul(10))\n",
    "# print(data.mul_(10))\n",
    "print(data)"
   ],
   "metadata": {
    "collapsed": false,
    "ExecuteTime": {
     "end_time": "2024-08-26T07:26:09.059476Z",
     "start_time": "2024-08-26T07:26:09.051908Z"
    }
   },
   "id": "886f7d9e18f58e27"
  },
  {
   "cell_type": "code",
   "execution_count": null,
   "outputs": [],
   "source": [],
   "metadata": {
    "collapsed": false
   },
   "id": "e3f2224f8200e67f"
  },
  {
   "cell_type": "code",
   "execution_count": 38,
   "outputs": [
    {
     "name": "stdout",
     "output_type": "stream",
     "text": [
      "tensor([[13., 16., 11.],\n",
      "        [12., 11., 12.]])\n"
     ]
    },
    {
     "ename": "RuntimeError",
     "evalue": "result type Float can't be cast to the desired output type Long",
     "output_type": "error",
     "traceback": [
      "\u001B[0;31m---------------------------------------------------------------------------\u001B[0m",
      "\u001B[0;31mRuntimeError\u001B[0m                              Traceback (most recent call last)",
      "Cell \u001B[0;32mIn[38], line 2\u001B[0m\n\u001B[1;32m      1\u001B[0m \u001B[38;5;28mprint\u001B[39m(data\u001B[38;5;241m.\u001B[39mdiv(\u001B[38;5;241m10\u001B[39m))\n\u001B[0;32m----> 2\u001B[0m \u001B[38;5;28mprint\u001B[39m(\u001B[43mdata\u001B[49m\u001B[38;5;241;43m.\u001B[39;49m\u001B[43mdiv_\u001B[49m\u001B[43m(\u001B[49m\u001B[38;5;241;43m10\u001B[39;49m\u001B[43m)\u001B[49m\u001B[38;5;241m.\u001B[39mlong())\n\u001B[1;32m      3\u001B[0m \u001B[38;5;66;03m# print(data.div_(10))\u001B[39;00m\n\u001B[1;32m      4\u001B[0m \u001B[38;5;66;03m# print(data_long)\u001B[39;00m\n\u001B[1;32m      5\u001B[0m \u001B[38;5;28mprint\u001B[39m(data)\n",
      "\u001B[0;31mRuntimeError\u001B[0m: result type Float can't be cast to the desired output type Long"
     ]
    }
   ],
   "source": [
    "print(data.div(10))\n",
    "print(data.div_(10).long())\n",
    "# print(data.div_(10))\n",
    "# print(data_long)\n",
    "print(data)"
   ],
   "metadata": {
    "collapsed": false,
    "ExecuteTime": {
     "end_time": "2024-08-26T07:41:17.969203Z",
     "start_time": "2024-08-26T07:41:17.939828Z"
    }
   },
   "id": "31025a77436fb718"
  },
  {
   "cell_type": "code",
   "execution_count": 17,
   "outputs": [
    {
     "name": "stdout",
     "output_type": "stream",
     "text": [
      "tensor([[-12, -15, -10],\n",
      "        [-11, -10, -11]])\n"
     ]
    }
   ],
   "source": [
    "#change to negative \n",
    "print(data.neg())"
   ],
   "metadata": {
    "collapsed": false,
    "ExecuteTime": {
     "end_time": "2024-08-26T07:24:37.645556Z",
     "start_time": "2024-08-26T07:24:37.642272Z"
    }
   },
   "id": "5d3fc2c183df99a4"
  },
  {
   "cell_type": "markdown",
   "source": [],
   "metadata": {
    "collapsed": false
   },
   "id": "2938e2d8f0599055"
  },
  {
   "cell_type": "markdown",
   "source": [],
   "metadata": {
    "collapsed": false
   },
   "id": "9b160bfb5cecf8a"
  },
  {
   "cell_type": "markdown",
   "source": [
    "#### 1.9 点乘"
   ],
   "metadata": {
    "collapsed": false
   },
   "id": "58b21bac05aeec6a"
  },
  {
   "cell_type": "code",
   "execution_count": 39,
   "outputs": [
    {
     "name": "stdout",
     "output_type": "stream",
     "text": [
      "tensor([[8, 7, 1],\n",
      "        [4, 8, 9]])\n"
     ]
    }
   ],
   "source": [
    "torch.random.manual_seed(2)\n",
    "data1 = torch.randint(0,10,[2,3])\n",
    "print(data1)"
   ],
   "metadata": {
    "collapsed": false,
    "ExecuteTime": {
     "end_time": "2024-08-26T07:45:30.291354Z",
     "start_time": "2024-08-26T07:45:30.265899Z"
    }
   },
   "id": "43ab9adb77cca364"
  },
  {
   "cell_type": "code",
   "execution_count": 40,
   "outputs": [
    {
     "name": "stdout",
     "output_type": "stream",
     "text": [
      "tensor([[6, 8, 7],\n",
      "        [7, 0, 0]])\n"
     ]
    }
   ],
   "source": [
    "torch.random.manual_seed(3)\n",
    "data2 = torch.randint(0,10,[2,3])\n",
    "print(data2)"
   ],
   "metadata": {
    "collapsed": false,
    "ExecuteTime": {
     "end_time": "2024-08-26T07:45:53.837672Z",
     "start_time": "2024-08-26T07:45:53.829276Z"
    }
   },
   "id": "5bc66a58ea876450"
  },
  {
   "cell_type": "code",
   "execution_count": 41,
   "outputs": [
    {
     "name": "stdout",
     "output_type": "stream",
     "text": [
      "tensor([[48, 56,  7],\n",
      "        [28,  0,  0]])\n"
     ]
    }
   ],
   "source": [
    "print(torch.mul(data1, data2))"
   ],
   "metadata": {
    "collapsed": false,
    "ExecuteTime": {
     "end_time": "2024-08-26T07:46:21.276622Z",
     "start_time": "2024-08-26T07:46:21.252475Z"
    }
   },
   "id": "87e2d68edbdd2089"
  },
  {
   "cell_type": "code",
   "execution_count": 42,
   "outputs": [
    {
     "name": "stdout",
     "output_type": "stream",
     "text": [
      "tensor([[48, 56,  7],\n",
      "        [28,  0,  0]])\n"
     ]
    }
   ],
   "source": [
    "print(data1 * data2)"
   ],
   "metadata": {
    "collapsed": false,
    "ExecuteTime": {
     "end_time": "2024-08-26T07:46:34.557054Z",
     "start_time": "2024-08-26T07:46:34.541488Z"
    }
   },
   "id": "f2c2d2138fc25384"
  },
  {
   "cell_type": "markdown",
   "source": [
    "#### 1.10 矩阵乘法 点积"
   ],
   "metadata": {
    "collapsed": false
   },
   "id": "1d129898aecccc6a"
  },
  {
   "cell_type": "code",
   "execution_count": 46,
   "outputs": [
    {
     "name": "stdout",
     "output_type": "stream",
     "text": [
      "tensor([[9, 6, 6, 4],\n",
      "        [2, 2, 2, 1],\n",
      "        [8, 0, 1, 0]])\n"
     ]
    }
   ],
   "source": [
    "torch.random.manual_seed(22)\n",
    "data1 = torch.randint(0,10,[3,4])\n",
    "print(data1)"
   ],
   "metadata": {
    "collapsed": false,
    "ExecuteTime": {
     "end_time": "2024-08-26T07:51:18.843428Z",
     "start_time": "2024-08-26T07:51:18.835717Z"
    }
   },
   "id": "fc79d1e6917aeff3"
  },
  {
   "cell_type": "code",
   "execution_count": 47,
   "outputs": [
    {
     "name": "stdout",
     "output_type": "stream",
     "text": [
      "tensor([[1, 6, 6, 7, 0],\n",
      "        [2, 7, 1, 4, 7],\n",
      "        [5, 6, 3, 7, 8],\n",
      "        [7, 5, 2, 9, 8]])\n"
     ]
    }
   ],
   "source": [
    "torch.random.manual_seed(23)\n",
    "data2 = torch.randint(0,10,[4,5])\n",
    "print(data2)"
   ],
   "metadata": {
    "collapsed": false,
    "ExecuteTime": {
     "end_time": "2024-08-26T07:51:27.651130Z",
     "start_time": "2024-08-26T07:51:27.646953Z"
    }
   },
   "id": "1a0509fbe5fb1793"
  },
  {
   "cell_type": "code",
   "execution_count": 48,
   "outputs": [
    {
     "name": "stdout",
     "output_type": "stream",
     "text": [
      "tensor([[ 79, 152,  86, 165, 122],\n",
      "        [ 23,  43,  22,  45,  38],\n",
      "        [ 13,  54,  51,  63,   8]])\n"
     ]
    }
   ],
   "source": [
    "print(data1 @ data2)"
   ],
   "metadata": {
    "collapsed": false,
    "ExecuteTime": {
     "end_time": "2024-08-26T07:51:29.713974Z",
     "start_time": "2024-08-26T07:51:29.709318Z"
    }
   },
   "id": "972a7f6c8db6488f"
  },
  {
   "cell_type": "code",
   "execution_count": 49,
   "outputs": [
    {
     "name": "stdout",
     "output_type": "stream",
     "text": [
      "tensor([[ 79, 152,  86, 165, 122],\n",
      "        [ 23,  43,  22,  45,  38],\n",
      "        [ 13,  54,  51,  63,   8]])\n"
     ]
    }
   ],
   "source": [
    "print(torch.matmul(data1,data2))"
   ],
   "metadata": {
    "collapsed": false,
    "ExecuteTime": {
     "end_time": "2024-08-26T07:54:24.352606Z",
     "start_time": "2024-08-26T07:54:24.344680Z"
    }
   },
   "id": "1c8d5fb6e71d916c"
  },
  {
   "cell_type": "markdown",
   "source": [
    "#### 1.11 常见运算函数"
   ],
   "metadata": {
    "collapsed": false
   },
   "id": "6f09a7f8c925b23f"
  },
  {
   "cell_type": "code",
   "execution_count": 51,
   "outputs": [
    {
     "name": "stdout",
     "output_type": "stream",
     "text": [
      "tensor([[1., 4., 7.],\n",
      "        [5., 6., 0.]], dtype=torch.float64)\n"
     ]
    }
   ],
   "source": [
    "torch.random.manual_seed(5)\n",
    "#注意 tensor 必须为Float or Double 类型\n",
    "data = torch.randint(0,10,[2,3],dtype=torch.float64)\n",
    "print(data)"
   ],
   "metadata": {
    "collapsed": false,
    "ExecuteTime": {
     "end_time": "2024-08-26T08:04:34.322568Z",
     "start_time": "2024-08-26T08:04:34.314202Z"
    }
   },
   "id": "baa9533300690099"
  },
  {
   "cell_type": "code",
   "execution_count": 57,
   "outputs": [
    {
     "name": "stdout",
     "output_type": "stream",
     "text": [
      "tensor(3.8333, dtype=torch.float64)\n",
      "tensor([3.0000, 5.0000, 3.5000], dtype=torch.float64)\n",
      "tensor([4.0000, 3.6667], dtype=torch.float64)\n",
      "tensor([4.0000, 3.6667], dtype=torch.float64)\n"
     ]
    }
   ],
   "source": [
    "#均值\n",
    "print(data.mean()) #23/6 = 3.83\n",
    "print(data.mean(dim=0)) #按行 1 + 5； 4+6； 7+0\n",
    "print(data.mean(dim=1)) #按列 1+4+7； \n",
    "print(data.mean(dim=-1)) #按列 1+4+7； "
   ],
   "metadata": {
    "collapsed": false,
    "ExecuteTime": {
     "end_time": "2024-08-26T08:11:44.148157Z",
     "start_time": "2024-08-26T08:11:44.138741Z"
    }
   },
   "id": "2afa2a559da6fb74"
  },
  {
   "cell_type": "code",
   "execution_count": 58,
   "outputs": [
    {
     "name": "stdout",
     "output_type": "stream",
     "text": [
      "tensor(23., dtype=torch.float64)\n",
      "tensor([ 6., 10.,  7.], dtype=torch.float64)\n",
      "tensor([12., 11.], dtype=torch.float64)\n"
     ]
    }
   ],
   "source": [
    "#计算总和\n",
    "print(data.sum()) #23/6 = 3.83\n",
    "print(data.sum(dim=0)) #按行 1 + 5； 4+6； 7+0\n",
    "print(data.sum(dim=1)) #按列 1+4+7； "
   ],
   "metadata": {
    "collapsed": false,
    "ExecuteTime": {
     "end_time": "2024-08-26T08:18:24.447679Z",
     "start_time": "2024-08-26T08:18:24.413237Z"
    }
   },
   "id": "7d7992ac0ecad132"
  },
  {
   "cell_type": "code",
   "execution_count": 59,
   "outputs": [
    {
     "name": "stdout",
     "output_type": "stream",
     "text": [
      "tensor([[ 1., 16., 49.],\n",
      "        [25., 36.,  0.]], dtype=torch.float64)\n"
     ]
    }
   ],
   "source": [
    "#计算平方\n",
    "print(torch.pow(data, 2))"
   ],
   "metadata": {
    "collapsed": false,
    "ExecuteTime": {
     "end_time": "2024-08-26T08:18:51.132830Z",
     "start_time": "2024-08-26T08:18:51.089831Z"
    }
   },
   "id": "cab29138aef0af45"
  },
  {
   "cell_type": "code",
   "execution_count": 60,
   "outputs": [
    {
     "name": "stdout",
     "output_type": "stream",
     "text": [
      "tensor([[1.0000, 2.0000, 2.6458],\n",
      "        [2.2361, 2.4495, 0.0000]], dtype=torch.float64)\n"
     ]
    }
   ],
   "source": [
    "#计算平方根\n",
    "print(data.sqrt())"
   ],
   "metadata": {
    "collapsed": false,
    "ExecuteTime": {
     "end_time": "2024-08-26T08:19:25.839231Z",
     "start_time": "2024-08-26T08:19:25.804223Z"
    }
   },
   "id": "c53cfd8ea37c8210"
  },
  {
   "cell_type": "code",
   "execution_count": 61,
   "outputs": [
    {
     "name": "stdout",
     "output_type": "stream",
     "text": [
      "tensor([[2.7183e+00, 5.4598e+01, 1.0966e+03],\n",
      "        [1.4841e+02, 4.0343e+02, 1.0000e+00]], dtype=torch.float64)\n"
     ]
    }
   ],
   "source": [
    "# 指数计算 \n",
    "print(data.exp())\n"
   ],
   "metadata": {
    "collapsed": false,
    "ExecuteTime": {
     "end_time": "2024-08-26T08:20:13.925047Z",
     "start_time": "2024-08-26T08:20:13.891927Z"
    }
   },
   "id": "3227726fffbd46b5"
  },
  {
   "cell_type": "code",
   "execution_count": 62,
   "outputs": [
    {
     "name": "stdout",
     "output_type": "stream",
     "text": [
      "tensor([[0.0000, 1.3863, 1.9459],\n",
      "        [1.6094, 1.7918,   -inf]], dtype=torch.float64)\n"
     ]
    }
   ],
   "source": [
    "#对数计算\n",
    "print(data.log())"
   ],
   "metadata": {
    "collapsed": false,
    "ExecuteTime": {
     "end_time": "2024-08-26T08:20:55.758563Z",
     "start_time": "2024-08-26T08:20:55.741396Z"
    }
   },
   "id": "5ca1ae59ed3a060d"
  },
  {
   "cell_type": "markdown",
   "source": [
    "#### 1.12 索引操作"
   ],
   "metadata": {
    "collapsed": false
   },
   "id": "fabd844846dbf776"
  },
  {
   "cell_type": "code",
   "execution_count": 63,
   "outputs": [
    {
     "name": "stdout",
     "output_type": "stream",
     "text": [
      "tensor([[9, 6, 6, 4, 2],\n",
      "        [2, 2, 1, 8, 0],\n",
      "        [1, 0, 3, 2, 4],\n",
      "        [4, 9, 0, 0, 1]])\n"
     ]
    }
   ],
   "source": [
    "torch.random.manual_seed(22)\n",
    "data = torch.randint(0,10,[4,5])\n",
    "print(data)"
   ],
   "metadata": {
    "collapsed": false
   },
   "id": "190f798d10118f5"
  },
  {
   "cell_type": "code",
   "execution_count": 64,
   "outputs": [
    {
     "name": "stdout",
     "output_type": "stream",
     "text": [
      "tensor([2, 2, 1, 8, 0])\n"
     ]
    }
   ],
   "source": [
    "print(data[1])  #tensor([2, 2, 1, 8, 0])"
   ],
   "metadata": {
    "collapsed": false,
    "ExecuteTime": {
     "end_time": "2024-08-26T08:21:55.123802Z",
     "start_time": "2024-08-26T08:21:55.088696Z"
    }
   },
   "id": "24a20fbaa7f12e3"
  },
  {
   "cell_type": "code",
   "execution_count": 65,
   "outputs": [
    {
     "name": "stdout",
     "output_type": "stream",
     "text": [
      "tensor([6, 1, 3, 0])\n"
     ]
    }
   ],
   "source": [
    "print(data[:,2])    #tensor([6, 1, 3, 0])"
   ],
   "metadata": {
    "collapsed": false,
    "ExecuteTime": {
     "end_time": "2024-08-26T08:22:31.276610Z",
     "start_time": "2024-08-26T08:22:31.231393Z"
    }
   },
   "id": "9cac15e2de1730bc"
  },
  {
   "cell_type": "code",
   "execution_count": 66,
   "outputs": [
    {
     "name": "stdout",
     "output_type": "stream",
     "text": [
      "tensor(2)\n"
     ]
    }
   ],
   "source": [
    "print(data[2,3])"
   ],
   "metadata": {
    "collapsed": false,
    "ExecuteTime": {
     "end_time": "2024-08-26T08:23:27.501420Z",
     "start_time": "2024-08-26T08:23:27.483286Z"
    }
   },
   "id": "fb9eafa991855737"
  },
  {
   "cell_type": "code",
   "execution_count": 70,
   "outputs": [
    {
     "name": "stdout",
     "output_type": "stream",
     "text": [
      "tensor([1, 3])\n"
     ]
    }
   ],
   "source": [
    "print(data[[1,2], [2,2]])   #tensor([1, 3])"
   ],
   "metadata": {
    "collapsed": false,
    "ExecuteTime": {
     "end_time": "2024-08-26T08:31:26.687895Z",
     "start_time": "2024-08-26T08:31:26.671389Z"
    }
   },
   "id": "e73b0b113c459b29"
  },
  {
   "cell_type": "code",
   "execution_count": 71,
   "outputs": [
    {
     "name": "stdout",
     "output_type": "stream",
     "text": [
      "tensor([[1, 8],\n",
      "        [3, 2]])\n"
     ]
    }
   ],
   "source": [
    "print(data[[[1],[2]],[2,3]]) #"
   ],
   "metadata": {
    "collapsed": false,
    "ExecuteTime": {
     "end_time": "2024-08-26T08:32:38.602440Z",
     "start_time": "2024-08-26T08:32:38.586678Z"
    }
   },
   "id": "e3fa7cfc17b372bd"
  },
  {
   "cell_type": "markdown",
   "source": [
    "- 1.12.2 范围索引"
   ],
   "metadata": {
    "collapsed": false
   },
   "id": "48db8111c04c2dd8"
  },
  {
   "cell_type": "code",
   "execution_count": 74,
   "outputs": [
    {
     "name": "stdout",
     "output_type": "stream",
     "text": [
      "tensor([[9, 6],\n",
      "        [2, 2],\n",
      "        [1, 0],\n",
      "        [4, 9]])\n"
     ]
    }
   ],
   "source": [
    "print(data[:4, :2])"
   ],
   "metadata": {
    "collapsed": false,
    "ExecuteTime": {
     "end_time": "2024-08-26T09:02:18.787736Z",
     "start_time": "2024-08-26T09:02:18.771612Z"
    }
   },
   "id": "7b0dd185ae653f46"
  },
  {
   "cell_type": "code",
   "execution_count": 77,
   "outputs": [
    {
     "name": "stdout",
     "output_type": "stream",
     "text": [
      "tensor([[8, 0],\n",
      "        [2, 4],\n",
      "        [0, 1]])\n"
     ]
    }
   ],
   "source": [
    "print(data[1:, 3:])"
   ],
   "metadata": {
    "collapsed": false,
    "ExecuteTime": {
     "end_time": "2024-08-26T09:03:27.027571Z",
     "start_time": "2024-08-26T09:03:27.011009Z"
    }
   },
   "id": "447e7dd896a52ab9"
  },
  {
   "cell_type": "markdown",
   "source": [
    "- 1.12.3 布尔索引"
   ],
   "metadata": {
    "collapsed": false
   },
   "id": "af11568bd0dfca8"
  },
  {
   "cell_type": "code",
   "execution_count": 79,
   "outputs": [
    {
     "name": "stdout",
     "output_type": "stream",
     "text": [
      "tensor([[2, 2, 1, 8, 0]])\n"
     ]
    }
   ],
   "source": [
    "#第三列大于5的数据\n",
    "print(data[data[:, 3] > 5])     #8 > 5"
   ],
   "metadata": {
    "collapsed": false,
    "ExecuteTime": {
     "end_time": "2024-08-26T09:05:17.060323Z",
     "start_time": "2024-08-26T09:05:17.053272Z"
    }
   },
   "id": "333f57514baa7333"
  },
  {
   "cell_type": "code",
   "execution_count": 87,
   "outputs": [
    {
     "name": "stdout",
     "output_type": "stream",
     "text": [
      "tensor([[9, 6, 6, 4, 2],\n",
      "        [2, 2, 1, 8, 0],\n",
      "        [1, 0, 3, 2, 4],\n",
      "        [4, 9, 0, 0, 1]])\n",
      "tensor([[4],\n",
      "        [8],\n",
      "        [2],\n",
      "        [0]])\n"
     ]
    }
   ],
   "source": [
    "#第二行大于5的数据\n",
    "print(data)\n",
    "print(data[:, data[1] > 5])"
   ],
   "metadata": {
    "collapsed": false,
    "ExecuteTime": {
     "end_time": "2024-08-26T09:09:39.638858Z",
     "start_time": "2024-08-26T09:09:39.633202Z"
    }
   },
   "id": "9b203d06f5cbef8d"
  },
  {
   "cell_type": "markdown",
   "source": [
    "- 1.12.3 多维索引"
   ],
   "metadata": {
    "collapsed": false
   },
   "id": "2864509b8f6ab461"
  },
  {
   "cell_type": "code",
   "execution_count": 89,
   "outputs": [
    {
     "name": "stdout",
     "output_type": "stream",
     "text": [
      "tensor([[[1, 6, 6, 7, 0],\n",
      "         [2, 7, 1, 4, 7],\n",
      "         [5, 6, 3, 7, 8],\n",
      "         [7, 5, 2, 9, 8]],\n",
      "\n",
      "        [[1, 9, 5, 0, 8],\n",
      "         [5, 6, 1, 1, 2],\n",
      "         [4, 3, 3, 5, 1],\n",
      "         [1, 9, 6, 3, 9]],\n",
      "\n",
      "        [[6, 1, 3, 4, 1],\n",
      "         [1, 8, 6, 4, 5],\n",
      "         [2, 0, 6, 9, 3],\n",
      "         [6, 8, 7, 0, 4]]])\n"
     ]
    }
   ],
   "source": [
    "torch.random.manual_seed(23)\n",
    "data = torch.randint(0,10,[3,4,5])\n",
    "print(data)"
   ],
   "metadata": {
    "collapsed": false,
    "ExecuteTime": {
     "end_time": "2024-08-26T09:18:54.392828Z",
     "start_time": "2024-08-26T09:18:54.379082Z"
    }
   },
   "id": "197dbedb33f752fb"
  },
  {
   "cell_type": "code",
   "execution_count": 92,
   "outputs": [
    {
     "data": {
      "text/plain": "tensor([[1, 6, 6, 7, 0],\n        [2, 7, 1, 4, 7],\n        [5, 6, 3, 7, 8],\n        [7, 5, 2, 9, 8]])"
     },
     "execution_count": 92,
     "metadata": {},
     "output_type": "execute_result"
    }
   ],
   "source": [
    "#获取0轴上的第一数据\n",
    "data[0,:,:]"
   ],
   "metadata": {
    "collapsed": false,
    "ExecuteTime": {
     "end_time": "2024-08-26T09:19:55.098458Z",
     "start_time": "2024-08-26T09:19:55.080690Z"
    }
   },
   "id": "4c87de9f2fa45c8c"
  },
  {
   "cell_type": "code",
   "execution_count": 93,
   "outputs": [
    {
     "data": {
      "text/plain": "tensor([[1, 6, 6, 7, 0],\n        [1, 9, 5, 0, 8],\n        [6, 1, 3, 4, 1]])"
     },
     "execution_count": 93,
     "metadata": {},
     "output_type": "execute_result"
    }
   ],
   "source": [
    "#获取1轴的第一个数据\n",
    "data[:,0,:]"
   ],
   "metadata": {
    "collapsed": false,
    "ExecuteTime": {
     "end_time": "2024-08-26T09:20:05.805922Z",
     "start_time": "2024-08-26T09:20:05.792105Z"
    }
   },
   "id": "b7616be2ba2f36ae"
  },
  {
   "cell_type": "code",
   "execution_count": 94,
   "outputs": [
    {
     "data": {
      "text/plain": "tensor([[1, 2, 5, 7],\n        [1, 5, 4, 1],\n        [6, 1, 2, 6]])"
     },
     "execution_count": 94,
     "metadata": {},
     "output_type": "execute_result"
    }
   ],
   "source": [
    "#获取2轴上的第一个数据\n",
    "data[:,:,0]"
   ],
   "metadata": {
    "collapsed": false,
    "ExecuteTime": {
     "end_time": "2024-08-26T09:20:34.877704Z",
     "start_time": "2024-08-26T09:20:34.842321Z"
    }
   },
   "id": "e9420bebb489cd9d"
  },
  {
   "cell_type": "markdown",
   "source": [
    "#### 1.13 形状操作"
   ],
   "metadata": {
    "collapsed": false
   },
   "id": "ad3189e8d7ed5f8e"
  },
  {
   "cell_type": "markdown",
   "source": [
    "- 13.1 reshape - "
   ],
   "metadata": {
    "collapsed": false
   },
   "id": "2b4317e5d19fc2e8"
  },
  {
   "cell_type": "code",
   "execution_count": 100,
   "outputs": [
    {
     "name": "stdout",
     "output_type": "stream",
     "text": [
      "torch.Size([3, 4, 5])\n",
      "<built-in method size of Tensor object at 0x7fecd8a629f0>\n"
     ]
    },
    {
     "data": {
      "text/plain": "tensor([9, 6, 6, 4, 2, 2, 2, 1, 8, 0, 1, 0, 3, 2, 4, 4, 9, 0, 0, 1, 3, 2, 9, 7,\n        8, 4, 1, 7, 9, 6, 8, 1, 6, 1, 0, 3, 5, 3, 8, 5, 7, 7, 5, 1, 8, 8, 9, 5,\n        5, 2, 9, 0, 5, 6, 7, 9, 1, 3, 7, 5])"
     },
     "execution_count": 100,
     "metadata": {},
     "output_type": "execute_result"
    }
   ],
   "source": [
    "torch.random.manual_seed(22)\n",
    "data = torch.randint(0,10,[3,4,5])\n",
    "print(data.shape)\n",
    "print(data.size)\n",
    "# total number of elements \n",
    "data.reshape(4,5,3)\n",
    "#The middle dimension is set to -1, which means it will be automatically calculated.\n",
    "# The product of the dimensions must equal the total number of elements: \n",
    "# 2×middle dimension×3=60\n",
    "data.reshape(2,-1,3)    \n",
    "\n",
    "data.reshape(-1)  #整数组"
   ],
   "metadata": {
    "collapsed": false,
    "ExecuteTime": {
     "end_time": "2024-08-26T09:30:21.567064Z",
     "start_time": "2024-08-26T09:30:21.549053Z"
    }
   },
   "id": "2196332388fd7732"
  },
  {
   "cell_type": "code",
   "execution_count": null,
   "outputs": [],
   "source": [],
   "metadata": {
    "collapsed": false
   },
   "id": "552c776f2cae1134"
  }
 ],
 "metadata": {
  "kernelspec": {
   "display_name": "Python 3",
   "language": "python",
   "name": "python3"
  },
  "language_info": {
   "codemirror_mode": {
    "name": "ipython",
    "version": 2
   },
   "file_extension": ".py",
   "mimetype": "text/x-python",
   "name": "python",
   "nbconvert_exporter": "python",
   "pygments_lexer": "ipython2",
   "version": "2.7.6"
  }
 },
 "nbformat": 4,
 "nbformat_minor": 5
}
