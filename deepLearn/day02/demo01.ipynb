{
 "cells": [
  {
   "cell_type": "code",
   "execution_count": 12,
   "id": "initial_id",
   "metadata": {
    "collapsed": true,
    "ExecuteTime": {
     "end_time": "2024-08-27T01:19:29.368249Z",
     "start_time": "2024-08-27T01:19:29.362807Z"
    }
   },
   "outputs": [],
   "source": [
    "import torch\n",
    "import numpy as np"
   ]
  },
  {
   "cell_type": "code",
   "execution_count": 4,
   "outputs": [
    {
     "data": {
      "text/plain": "torch.Size([5])"
     },
     "execution_count": 4,
     "metadata": {},
     "output_type": "execute_result"
    }
   ],
   "source": [
    "mydata1 = torch.tensor([1,2,3,4,5])\n",
    "mydata1.shape"
   ],
   "metadata": {
    "collapsed": false,
    "ExecuteTime": {
     "end_time": "2024-08-27T01:15:09.709610Z",
     "start_time": "2024-08-27T01:15:09.696498Z"
    }
   },
   "id": "8a7a280ba7d8d7a8"
  },
  {
   "cell_type": "code",
   "execution_count": 6,
   "outputs": [
    {
     "name": "stdout",
     "output_type": "stream",
     "text": [
      "在0维度上扩展维度：(tensor([[1, 2, 3, 4, 5]]), torch.Size([1, 5]))\n"
     ]
    }
   ],
   "source": [
    "mydata2 = mydata1.unsqueeze(dim=0)\n",
    "print(f'在0维度上扩展维度：{mydata2,mydata2.shape}')"
   ],
   "metadata": {
    "collapsed": false,
    "ExecuteTime": {
     "end_time": "2024-08-27T01:16:36.530235Z",
     "start_time": "2024-08-27T01:16:36.523069Z"
    }
   },
   "id": "fc5941c5551cbaa"
  },
  {
   "cell_type": "code",
   "execution_count": 8,
   "outputs": [
    {
     "name": "stdout",
     "output_type": "stream",
     "text": [
      "在0维度上扩展维度：(tensor([[1],\n",
      "        [2],\n",
      "        [3],\n",
      "        [4],\n",
      "        [5]]), torch.Size([5, 1]))\n"
     ]
    }
   ],
   "source": [
    "mydata3 = mydata1.unsqueeze(dim=1)\n",
    "print(f'在1维度上扩展维度：{mydata3,mydata3.shape}')"
   ],
   "metadata": {
    "collapsed": false,
    "ExecuteTime": {
     "end_time": "2024-08-27T01:17:33.583219Z",
     "start_time": "2024-08-27T01:17:33.577067Z"
    }
   },
   "id": "a182af6b643fca3c"
  },
  {
   "cell_type": "code",
   "execution_count": 9,
   "outputs": [
    {
     "name": "stdout",
     "output_type": "stream",
     "text": [
      "在-1维度上扩展维度：(tensor([[1],\n",
      "        [2],\n",
      "        [3],\n",
      "        [4],\n",
      "        [5]]), torch.Size([5, 1]))\n"
     ]
    }
   ],
   "source": [
    "mydata4 = mydata1.unsqueeze(dim=-1)\n",
    "print(f'在-1维度上扩展维度：{mydata4,mydata4.shape}')"
   ],
   "metadata": {
    "collapsed": false,
    "ExecuteTime": {
     "end_time": "2024-08-27T01:18:01.038323Z",
     "start_time": "2024-08-27T01:18:01.025746Z"
    }
   },
   "id": "124e89cc8b9ef04d"
  },
  {
   "cell_type": "code",
   "execution_count": 11,
   "outputs": [
    {
     "name": "stdout",
     "output_type": "stream",
     "text": [
      "压缩维度：(tensor([1, 2, 3, 4, 5]), torch.Size([5]))\n"
     ]
    }
   ],
   "source": [
    "mydata5 = mydata1.squeeze()\n",
    "print(f'压缩维度：{mydata5,mydata5.shape}')"
   ],
   "metadata": {
    "collapsed": false,
    "ExecuteTime": {
     "end_time": "2024-08-27T01:18:43.362051Z",
     "start_time": "2024-08-27T01:18:43.354387Z"
    }
   },
   "id": "745648998e280ccd"
  },
  {
   "cell_type": "markdown",
   "source": [
    "- tranpose and permute()"
   ],
   "metadata": {
    "collapsed": false
   },
   "id": "81b58e1606864093"
  },
  {
   "cell_type": "code",
   "execution_count": 13,
   "outputs": [
    {
     "name": "stdout",
     "output_type": "stream",
     "text": [
      "data shape: torch.Size([3, 4, 5])\n"
     ]
    }
   ],
   "source": [
    "data = torch.tensor(np.random.randint(0,10,[3,4,5]))\n",
    "print('data shape:', data.size())"
   ],
   "metadata": {
    "collapsed": false,
    "ExecuteTime": {
     "end_time": "2024-08-27T01:20:31.370469Z",
     "start_time": "2024-08-27T01:20:31.353682Z"
    }
   },
   "id": "556f2bfb16ca8943"
  },
  {
   "cell_type": "code",
   "execution_count": 19,
   "outputs": [
    {
     "name": "stdout",
     "output_type": "stream",
     "text": [
      "shape: torch.Size([3, 5, 4])\n"
     ]
    }
   ],
   "source": [
    "mydata2 = torch.transpose(data, 1, 2 )\n",
    "print('shape:', mydata2.shape)"
   ],
   "metadata": {
    "collapsed": false,
    "ExecuteTime": {
     "end_time": "2024-08-27T01:22:34.626141Z",
     "start_time": "2024-08-27T01:22:34.621753Z"
    }
   },
   "id": "48671ba8209ec8fc"
  },
  {
   "cell_type": "code",
   "execution_count": 20,
   "outputs": [
    {
     "name": "stdout",
     "output_type": "stream",
     "text": [
      "shape: torch.Size([4, 5, 3])\n"
     ]
    }
   ],
   "source": [
    "mydata3 = torch.transpose(data, 0,1)\n",
    "mydata4 = torch.transpose(mydata3, 1,2)\n",
    "print('shape:', mydata4.shape)"
   ],
   "metadata": {
    "collapsed": false,
    "ExecuteTime": {
     "end_time": "2024-08-27T01:24:07.981468Z",
     "start_time": "2024-08-27T01:24:07.973168Z"
    }
   },
   "id": "8120e8052c4edaa6"
  },
  {
   "cell_type": "code",
   "execution_count": 21,
   "outputs": [
    {
     "name": "stdout",
     "output_type": "stream",
     "text": [
      "shape: torch.Size([4, 5, 3])\n"
     ]
    }
   ],
   "source": [
    "mydata5 = torch.permute(data, [1,2,0])\n",
    "print('shape:', mydata5.shape)"
   ],
   "metadata": {
    "collapsed": false,
    "ExecuteTime": {
     "end_time": "2024-08-27T01:25:17.467754Z",
     "start_time": "2024-08-27T01:25:17.449783Z"
    }
   },
   "id": "e2ce01da24bfe91b"
  },
  {
   "cell_type": "code",
   "execution_count": 23,
   "outputs": [
    {
     "name": "stdout",
     "output_type": "stream",
     "text": [
      "shape: torch.Size([4, 5, 3])\n"
     ]
    }
   ],
   "source": [
    "mydata6 = data.permute([1,2,0])\n",
    "print('shape:', mydata6.shape)"
   ],
   "metadata": {
    "collapsed": false,
    "ExecuteTime": {
     "end_time": "2024-08-27T01:26:15.414748Z",
     "start_time": "2024-08-27T01:26:15.407391Z"
    }
   },
   "id": "957d35c288a0db43"
  },
  {
   "cell_type": "markdown",
   "source": [
    "#### 1.3 view and contiguous()"
   ],
   "metadata": {
    "collapsed": false
   },
   "id": "84a01ecfde4bc066"
  },
  {
   "cell_type": "code",
   "execution_count": 24,
   "outputs": [
    {
     "name": "stdout",
     "output_type": "stream",
     "text": [
      "torch.Size([2, 3])\n"
     ]
    }
   ],
   "source": [
    "torch.random.manual_seed(22)\n",
    "data = torch.randint(0,10,[2,3])\n",
    "print(data.shape)"
   ],
   "metadata": {
    "collapsed": false,
    "ExecuteTime": {
     "end_time": "2024-08-27T01:27:53.802942Z",
     "start_time": "2024-08-27T01:27:53.783566Z"
    }
   },
   "id": "289b28d97301b95d"
  },
  {
   "cell_type": "code",
   "execution_count": 27,
   "outputs": [
    {
     "name": "stdout",
     "output_type": "stream",
     "text": [
      "True\n",
      "torch.Size([6])\n",
      "False\n"
     ]
    },
    {
     "data": {
      "text/plain": "tensor([[9, 4],\n        [6, 2],\n        [6, 2]])"
     },
     "execution_count": 27,
     "metadata": {},
     "output_type": "execute_result"
    }
   ],
   "source": [
    "print(data.is_contiguous())\n",
    "print(data.view(-1).shape)\n",
    "\n",
    "data1 = torch.transpose(data, 0,1)\n",
    "print(data1.is_contiguous())\n",
    "# view 内存一定要连续\n",
    "data2 = data1.contiguous()\n",
    "# data2.view(-1).shape\n",
    "data2.view(3,2)"
   ],
   "metadata": {
    "collapsed": false,
    "ExecuteTime": {
     "end_time": "2024-08-27T01:33:03.319519Z",
     "start_time": "2024-08-27T01:33:03.310065Z"
    }
   },
   "id": "d4fa14536ea1e75f"
  },
  {
   "cell_type": "markdown",
   "source": [
    "## 拼接"
   ],
   "metadata": {
    "collapsed": false
   },
   "id": "c034f9af965f67cd"
  },
  {
   "cell_type": "code",
   "execution_count": 28,
   "outputs": [
    {
     "data": {
      "text/plain": "tensor([[[9, 6, 6],\n         [4, 2, 2],\n         [2, 1, 8],\n         [0, 1, 0],\n         [3, 2, 4]],\n\n        [[4, 9, 0],\n         [0, 1, 3],\n         [2, 9, 7],\n         [8, 4, 1],\n         [7, 9, 6]],\n\n        [[8, 1, 6],\n         [1, 0, 3],\n         [5, 3, 8],\n         [5, 7, 7],\n         [5, 1, 8]],\n\n        [[8, 9, 5],\n         [5, 2, 9],\n         [0, 5, 6],\n         [7, 9, 1],\n         [3, 7, 5]]])"
     },
     "execution_count": 28,
     "metadata": {},
     "output_type": "execute_result"
    }
   ],
   "source": [
    "torch.random.manual_seed(22)\n",
    "data1 = torch.randint(0,10,[4,5,3])\n",
    "data1"
   ],
   "metadata": {
    "collapsed": false,
    "ExecuteTime": {
     "end_time": "2024-08-27T02:02:01.692907Z",
     "start_time": "2024-08-27T02:02:01.675521Z"
    }
   },
   "id": "5443b5c4e28d1b32"
  },
  {
   "cell_type": "code",
   "execution_count": 29,
   "outputs": [
    {
     "data": {
      "text/plain": "tensor([[[1, 6, 6],\n         [7, 0, 2],\n         [7, 1, 4],\n         [7, 5, 6],\n         [3, 7, 8]],\n\n        [[7, 5, 2],\n         [9, 8, 1],\n         [9, 5, 0],\n         [8, 5, 6],\n         [1, 1, 2]],\n\n        [[4, 3, 3],\n         [5, 1, 1],\n         [9, 6, 3],\n         [9, 6, 1],\n         [3, 4, 1]],\n\n        [[1, 8, 6],\n         [4, 5, 2],\n         [0, 6, 9],\n         [3, 6, 8],\n         [7, 0, 4]]])"
     },
     "execution_count": 29,
     "metadata": {},
     "output_type": "execute_result"
    }
   ],
   "source": [
    "torch.random.manual_seed(23)\n",
    "data2 = torch.randint(0,10,[4,5,3])\n",
    "data2"
   ],
   "metadata": {
    "collapsed": false,
    "ExecuteTime": {
     "end_time": "2024-08-27T02:02:20.658937Z",
     "start_time": "2024-08-27T02:02:20.638634Z"
    }
   },
   "id": "cb3136f599e8d494"
  },
  {
   "cell_type": "code",
   "execution_count": 30,
   "outputs": [
    {
     "name": "stdout",
     "output_type": "stream",
     "text": [
      "torch.Size([4, 5, 6])\n"
     ]
    }
   ],
   "source": [
    "print(torch.cat([data1, data2], dim=2).shape)"
   ],
   "metadata": {
    "collapsed": false,
    "ExecuteTime": {
     "end_time": "2024-08-27T02:03:01.536830Z",
     "start_time": "2024-08-27T02:03:01.504023Z"
    }
   },
   "id": "b076936f14221e83"
  },
  {
   "cell_type": "code",
   "execution_count": 31,
   "outputs": [
    {
     "name": "stdout",
     "output_type": "stream",
     "text": [
      "torch.Size([4, 10, 3])\n"
     ]
    }
   ],
   "source": [
    "print(torch.cat([data1, data2], dim=1).shape)"
   ],
   "metadata": {
    "collapsed": false,
    "ExecuteTime": {
     "end_time": "2024-08-27T02:06:07.451975Z",
     "start_time": "2024-08-27T02:06:07.432883Z"
    }
   },
   "id": "50517717cacd1e00"
  },
  {
   "cell_type": "code",
   "execution_count": 32,
   "outputs": [
    {
     "name": "stdout",
     "output_type": "stream",
     "text": [
      "torch.Size([8, 5, 3])\n"
     ]
    }
   ],
   "source": [
    "print(torch.cat([data1, data2], dim=0).shape)"
   ],
   "metadata": {
    "collapsed": false,
    "ExecuteTime": {
     "end_time": "2024-08-27T02:06:19.332370Z",
     "start_time": "2024-08-27T02:06:19.308937Z"
    }
   },
   "id": "bd7eb66f87e1426f"
  },
  {
   "cell_type": "code",
   "execution_count": null,
   "outputs": [],
   "source": [],
   "metadata": {
    "collapsed": false
   },
   "id": "14c5acfe26df5e50"
  }
 ],
 "metadata": {
  "kernelspec": {
   "display_name": "Python 3",
   "language": "python",
   "name": "python3"
  },
  "language_info": {
   "codemirror_mode": {
    "name": "ipython",
    "version": 2
   },
   "file_extension": ".py",
   "mimetype": "text/x-python",
   "name": "python",
   "nbconvert_exporter": "python",
   "pygments_lexer": "ipython2",
   "version": "2.7.6"
  }
 },
 "nbformat": 4,
 "nbformat_minor": 5
}
