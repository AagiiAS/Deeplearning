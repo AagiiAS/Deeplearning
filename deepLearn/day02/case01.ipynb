{
 "cells": [
  {
   "cell_type": "code",
   "execution_count": 1,
   "id": "initial_id",
   "metadata": {
    "collapsed": true,
    "ExecuteTime": {
     "end_time": "2024-08-27T02:21:46.161370Z",
     "start_time": "2024-08-27T02:21:44.552368Z"
    }
   },
   "outputs": [],
   "source": [
    "import torch"
   ]
  },
  {
   "cell_type": "markdown",
   "source": [
    "#### 1 数据 特征 +目标"
   ],
   "metadata": {
    "collapsed": false
   },
   "id": "7eecba2638a2c1fe"
  },
  {
   "cell_type": "code",
   "execution_count": 2,
   "outputs": [],
   "source": [
    "x = torch.tensor(5)\n",
    "y = torch.tensor(0.)"
   ],
   "metadata": {
    "collapsed": false,
    "ExecuteTime": {
     "end_time": "2024-08-27T02:23:44.177955Z",
     "start_time": "2024-08-27T02:23:44.165574Z"
    }
   },
   "id": "201fd99fb3a9efd5"
  },
  {
   "cell_type": "markdown",
   "source": [
    "#### 2. 参数 权重 + 偏置"
   ],
   "metadata": {
    "collapsed": false
   },
   "id": "d64c0758427a515f"
  },
  {
   "cell_type": "code",
   "execution_count": 3,
   "outputs": [],
   "source": [
    "w = torch.tensor(1, requires_grad=True, dtype=torch.float32)\n",
    "\n",
    "b = torch.tensor(3, requires_grad=True, dtype=torch.float32)"
   ],
   "metadata": {
    "collapsed": false,
    "ExecuteTime": {
     "end_time": "2024-08-27T02:24:35.962149Z",
     "start_time": "2024-08-27T02:24:35.955620Z"
    }
   },
   "id": "ee56858bef3655b4"
  },
  {
   "cell_type": "markdown",
   "source": [
    "#### 3.预测"
   ],
   "metadata": {
    "collapsed": false
   },
   "id": "208afa1d17e87a1e"
  },
  {
   "cell_type": "code",
   "execution_count": 4,
   "outputs": [],
   "source": [
    "z = x*w + b "
   ],
   "metadata": {
    "collapsed": false,
    "ExecuteTime": {
     "end_time": "2024-08-27T02:25:00.629419Z",
     "start_time": "2024-08-27T02:25:00.619068Z"
    }
   },
   "id": "2cd3239cd38c4f90"
  },
  {
   "cell_type": "markdown",
   "source": [
    "#### 4. 损失"
   ],
   "metadata": {
    "collapsed": false
   },
   "id": "ae53d7d00d18f942"
  },
  {
   "cell_type": "code",
   "execution_count": 5,
   "outputs": [],
   "source": [
    "loss = torch.nn.MSELoss()\n",
    "loss = loss(z,y)"
   ],
   "metadata": {
    "collapsed": false,
    "ExecuteTime": {
     "end_time": "2024-08-27T02:25:43.825976Z",
     "start_time": "2024-08-27T02:25:43.816290Z"
    }
   },
   "id": "ffa50d053f87e0d"
  },
  {
   "cell_type": "markdown",
   "source": [
    "#### 5. 微分"
   ],
   "metadata": {
    "collapsed": false
   },
   "id": "de9e0abdd5c52342"
  },
  {
   "cell_type": "code",
   "execution_count": 6,
   "outputs": [],
   "source": [
    "loss.backward()"
   ],
   "metadata": {
    "collapsed": false,
    "ExecuteTime": {
     "end_time": "2024-08-27T02:25:55.201044Z",
     "start_time": "2024-08-27T02:25:55.192991Z"
    }
   },
   "id": "a08d6efcb5b5c67a"
  },
  {
   "cell_type": "markdown",
   "source": [
    "#### 6.梯度"
   ],
   "metadata": {
    "collapsed": false
   },
   "id": "54ed6d8fecc309a0"
  },
  {
   "cell_type": "code",
   "execution_count": 7,
   "outputs": [
    {
     "name": "stdout",
     "output_type": "stream",
     "text": [
      "tensor(80.)\n",
      "tensor(16.)\n"
     ]
    }
   ],
   "source": [
    "print(w.grad)\n",
    "print(b.grad)"
   ],
   "metadata": {
    "collapsed": false,
    "ExecuteTime": {
     "end_time": "2024-08-27T02:26:12.274765Z",
     "start_time": "2024-08-27T02:26:12.269179Z"
    }
   },
   "id": "3476e6200064c8cd"
  },
  {
   "cell_type": "markdown",
   "source": [],
   "metadata": {
    "collapsed": false
   },
   "id": "d3492d7a67a10f3f"
  }
 ],
 "metadata": {
  "kernelspec": {
   "display_name": "Python 3",
   "language": "python",
   "name": "python3"
  },
  "language_info": {
   "codemirror_mode": {
    "name": "ipython",
    "version": 2
   },
   "file_extension": ".py",
   "mimetype": "text/x-python",
   "name": "python",
   "nbconvert_exporter": "python",
   "pygments_lexer": "ipython2",
   "version": "2.7.6"
  }
 },
 "nbformat": 4,
 "nbformat_minor": 5
}
